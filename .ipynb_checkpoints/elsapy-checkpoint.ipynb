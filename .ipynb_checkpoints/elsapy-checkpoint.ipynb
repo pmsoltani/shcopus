{
 "cells": [
  {
   "cell_type": "code",
   "execution_count": null,
   "metadata": {},
   "outputs": [],
   "source": [
    "\"\"\"An example program that uses the elsapy module\"\"\"\n",
    "\n",
    "from elsapy.elsclient import ElsClient\n",
    "from elsapy.elsprofile import ElsAuthor, ElsAffil\n",
    "from elsapy.elsdoc import FullDoc, AbsDoc\n",
    "from elsapy.elssearch import ElsSearch\n",
    "import json"
   ]
  },
  {
   "cell_type": "code",
   "execution_count": null,
   "metadata": {},
   "outputs": [],
   "source": [
    "# Load configuration\n",
    "con_file = open(\"config.json\")\n",
    "config = json.load(con_file)\n",
    "con_file.close()\n",
    "\n",
    "# Initialize client\n",
    "client = ElsClient(config['apikey'])\n",
    "client.inst_token = config['insttoken']"
   ]
  },
  {
   "cell_type": "code",
   "execution_count": null,
   "metadata": {},
   "outputs": [],
   "source": [
    "## Author example\n",
    "# Initialize author with uri\n",
    "my_auth = ElsAuthor(\n",
    "        uri = 'https://api.elsevier.com/content/author/author_id/7004367821')\n",
    "\n",
    "# Read author data, then write to disk\n",
    "if my_auth.read(client):\n",
    "    print (\"my_auth.full_name: \", my_auth.full_name)\n",
    "    my_auth.write()\n",
    "else:\n",
    "    print (\"Read author failed.\")"
   ]
  },
  {
   "cell_type": "code",
   "execution_count": null,
   "metadata": {},
   "outputs": [],
   "source": [
    "## Affiliation example\n",
    "# Initialize affiliation with ID as string\n",
    "my_aff = ElsAffil(affil_id = '60101411')\n",
    "if my_aff.read(client):\n",
    "    print (\"my_aff.name: \", my_aff.name)\n",
    "    my_aff.write()\n",
    "else:\n",
    "    print (\"Read affiliation failed.\")"
   ]
  },
  {
   "cell_type": "code",
   "execution_count": null,
   "metadata": {},
   "outputs": [],
   "source": [
    "## Scopus (Abtract) document example\n",
    "# Initialize document with Scopus ID.\n",
    "scp_doc = AbsDoc(scp_id = '84872135457')\n",
    "if scp_doc.read(client):\n",
    "    print (\"scp_doc.title: \", scp_doc.title)\n",
    "    scp_doc.write()   \n",
    "else:\n",
    "    print (\"Read document failed.\")\n",
    "\n",
    "## ScienceDirect (full-text) document example using PII\n",
    "pii_doc = FullDoc(sd_pii = 'S1674927814000082')\n",
    "if pii_doc.read(client):\n",
    "    print (\"pii_doc.title: \", pii_doc.title)\n",
    "    pii_doc.write()   \n",
    "else:\n",
    "    print (\"Read document failed.\")\n",
    "\n",
    "## ScienceDirect (full-text) document example using DOI\n",
    "doi_doc = FullDoc(doi = '10.1016/S1525-1578(10)60571-5')\n",
    "if doi_doc.read(client):\n",
    "    print (\"doi_doc.title: \", doi_doc.title)\n",
    "    doi_doc.write()   \n",
    "else:\n",
    "    print (\"Read document failed.\")"
   ]
  },
  {
   "cell_type": "code",
   "execution_count": null,
   "metadata": {},
   "outputs": [],
   "source": [
    "## Load list of documents from the API into affilation and author objects.\n",
    "# Since a document list is retrieved for 25 entries at a time, this is\n",
    "#  a potentially lenghty operation - hence the prompt.\n",
    "print (\"Load documents (Y/N)?\")\n",
    "s = input('--> ')\n",
    "\n",
    "if (s == \"y\" or s == \"Y\"):\n",
    "\n",
    "    ## Read all documents for example author, then write to disk\n",
    "    if my_auth.read_docs(client):\n",
    "        print (\"my_auth.doc_list has \" + str(len(my_auth.doc_list)) + \" items.\")\n",
    "        my_auth.write_docs()\n",
    "    else:\n",
    "        print (\"Read docs for author failed.\")\n",
    "\n",
    "    ## Read all documents for example affiliation, then write to disk\n",
    "    if my_aff.read_docs(client):\n",
    "        print (\"my_aff.doc_list has \" + str(len(my_aff.doc_list)) + \" items.\")\n",
    "        my_aff.write_docs()\n",
    "    else:\n",
    "        print (\"Read docs for affiliation failed.\")"
   ]
  },
  {
   "cell_type": "code",
   "execution_count": null,
   "metadata": {},
   "outputs": [],
   "source": [
    "## Initialize author search object and execute search\n",
    "auth_srch = ElsSearch('authlast(keuskamp)','author')\n",
    "auth_srch.execute(client)\n",
    "print (\"auth_srch has\", len(auth_srch.results), \"results.\")\n"
   ]
  },
  {
   "cell_type": "code",
   "execution_count": null,
   "metadata": {},
   "outputs": [],
   "source": [
    "## Initialize affiliation search object and execute search\n",
    "aff_srch = ElsSearch('affil(amsterdam)','affiliation')\n",
    "aff_srch.execute(client)\n",
    "print (\"aff_srch has\", len(aff_srch.results), \"results.\")\n",
    "\n",
    "## Initialize doc search object and execute search, retrieving all results\n",
    "doc_srch = ElsSearch('star+trek+vs+star+wars','scopus')\n",
    "doc_srch.execute(client, get_all = True)\n",
    "print (\"doc_srch has\", len(doc_srch.results), \"results.\")"
   ]
  }
 ],
 "metadata": {
  "kernelspec": {
   "display_name": "Python 3",
   "language": "python",
   "name": "python3"
  },
  "language_info": {
   "codemirror_mode": {
    "name": "ipython",
    "version": 3
   },
   "file_extension": ".py",
   "mimetype": "text/x-python",
   "name": "python",
   "nbconvert_exporter": "python",
   "pygments_lexer": "ipython3",
   "version": "3.6.7"
  }
 },
 "nbformat": 4,
 "nbformat_minor": 2
}
