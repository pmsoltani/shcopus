{
 "cells": [
  {
   "cell_type": "code",
   "execution_count": 2,
   "metadata": {
    "collapsed": true
   },
   "outputs": [],
   "source": [
    "# modules\n",
    "\n",
    "import csv\n",
    "import sqlite3\n",
    "from collections import OrderedDict, Counter\n",
    "import requests\n",
    "import io\n",
    "import os\n",
    "import pandas as pd\n",
    "import sys"
   ]
  },
  {
   "cell_type": "code",
   "execution_count": 129,
   "metadata": {
    "collapsed": true
   },
   "outputs": [],
   "source": [
    "# obtaining & parsing scopus data\n",
    "maxInt = sys.maxsize\n",
    "decrement = True\n",
    "\n",
    "while decrement:\n",
    "    # decrease the maxInt value by factor 10 \n",
    "    # as long as the OverflowError occurs.\n",
    "\n",
    "    decrement = False\n",
    "    try:\n",
    "        csv.field_size_limit(maxInt)\n",
    "    except OverflowError:\n",
    "        maxInt = int(maxInt/10)\n",
    "        decrement = True\n",
    "\n",
    "import_path = \"papers\\\\2018.csv\"\n",
    "\n",
    "counter_n = 0\n",
    "counter_t = 0\n",
    "papers = []\n",
    "with open(import_path, 'r', encoding = 'UTF-8-sig') as csvfile:\n",
    "    reader = csv.DictReader(csvfile)\n",
    "    for row in reader:\n",
    "        for item in row:\n",
    "            if '\\n' in row[item]:\n",
    "                counter_n += 1\n",
    "            if '\\t' in row[item]:\n",
    "                counter_t += 1\n",
    "        papers.append(row)\n",
    "df = pd.DataFrame(papers)"
   ]
  },
  {
   "cell_type": "code",
   "execution_count": 130,
   "metadata": {
    "collapsed": true
   },
   "outputs": [],
   "source": [
    "for cnt, paper in enumerate(papers):\n",
    "    if len(list(paper.keys())) != 44:\n",
    "        print(cnt)"
   ]
  },
  {
   "cell_type": "code",
   "execution_count": 3,
   "metadata": {
    "collapsed": true
   },
   "outputs": [],
   "source": [
    "maxInt = sys.maxsize\n",
    "decrement = True\n",
    "\n",
    "while decrement:\n",
    "    # decrease the maxInt value by factor 10 \n",
    "    # as long as the OverflowError occurs.\n",
    "\n",
    "    decrement = False\n",
    "    try:\n",
    "        csv.field_size_limit(maxInt)\n",
    "    except OverflowError:\n",
    "        maxInt = int(maxInt/10)\n",
    "        decrement = True\n",
    "\n",
    "db_name = 'papers.db'\n",
    "papers_extension = 'csv'\n",
    "papers_directory = 'papers'\n",
    "\n",
    "for cnt, file in enumerate(os.listdir(papers_directory)):\n",
    "    if file.split('.')[1] == papers_extension:\n",
    "        papers = []\n",
    "        with open(os.path.join(papers_directory, file), 'r', encoding = 'UTF-8-sig') as csvfile:\n",
    "            reader = csv.DictReader(csvfile)\n",
    "            for row in reader:\n",
    "                papers.append(row)\n",
    "            if cnt == 0:\n",
    "                db = sqlite3.connect(db_name)\n",
    "                cursor = db.cursor()\n",
    "                db_headers = ', '.join(map(lambda item: '[' + item + ']', papers[0].keys()))\n",
    "                cursor.execute(f'''\n",
    "                    CREATE TABLE papers ({db_headers});\n",
    "                ''')\n",
    "                db.commit()\n",
    "            \n",
    "            cursor.executemany(f'''\n",
    "                INSERT INTO papers ({db_headers}) \n",
    "                values (\n",
    "                    ?, ?, ?, ?, ?, ?, ?, ?, ?, ?, ?, ?, ?, ?, ?, ?, ?, ?, ?, ?, \n",
    "                    ?, ?, ?, ?, ?, ?, ?, ?, ?, ?, ?, ?, ?, ?, ?, ?, ?, ?, ?, ?, \n",
    "                    ?, ?, ?, ?\n",
    "                );\n",
    "            ''', [tuple(paper.values()) for paper in papers])\n",
    "            db.commit()\n",
    "db.close()"
   ]
  },
  {
   "cell_type": "code",
   "execution_count": 4,
   "metadata": {
    "collapsed": true
   },
   "outputs": [],
   "source": [
    "def dict_factory(cursor, row):\n",
    "    d = OrderedDict()\n",
    "    for idx, col in enumerate(cursor.description):\n",
    "        d[col[0]] = row[idx]\n",
    "    return d\n",
    "\n",
    "db_name = 'papers.db'\n",
    "papers_extension = 'csv'\n",
    "papers_directory = 'papers'\n",
    "\n",
    "db = sqlite3.connect(db_name)\n",
    "db.row_factory = dict_factory\n",
    "cursor = db.cursor()\n",
    "cursor.execute('''SELECT * FROM papers WHERE Year=?''', ('2018',))\n",
    "pp = cursor.fetchall()\n",
    "len(pp)\n",
    "db.close()"
   ]
  },
  {
   "cell_type": "code",
   "execution_count": 7,
   "metadata": {},
   "outputs": [
    {
     "data": {
      "text/plain": [
       "True"
      ]
     },
     "execution_count": 7,
     "metadata": {},
     "output_type": "execute_result"
    }
   ],
   "source": [
    "type(db) == sqlite3.Connection"
   ]
  }
 ],
 "metadata": {
  "kernelspec": {
   "display_name": "Python 3",
   "language": "python",
   "name": "python3"
  },
  "language_info": {
   "codemirror_mode": {
    "name": "ipython",
    "version": 3
   },
   "file_extension": ".py",
   "mimetype": "text/x-python",
   "name": "python",
   "nbconvert_exporter": "python",
   "pygments_lexer": "ipython3",
   "version": "3.6.0"
  }
 },
 "nbformat": 4,
 "nbformat_minor": 2
}
