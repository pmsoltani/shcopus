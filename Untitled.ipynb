{
 "cells": [
  {
   "cell_type": "code",
   "execution_count": 1,
   "metadata": {},
   "outputs": [],
   "source": [
    "from fuzzywuzzy import fuzz\n",
    "from fuzzywuzzy import process"
   ]
  },
  {
   "cell_type": "code",
   "execution_count": 25,
   "metadata": {},
   "outputs": [
    {
     "data": {
      "text/plain": [
       "[('H.R. Hamid Reza Madaah Hosseini', 90),\n",
       " ('M. Mohammad Halali', 60),\n",
       " ('M.A. Mohammad Ali Faghihi Sani', 60),\n",
       " ('M. Mohammad Ghorbani', 60),\n",
       " ('A. Abbas Akbarzadeh', 45)]"
      ]
     },
     "execution_count": 25,
     "metadata": {},
     "output_type": "execute_result"
    }
   ],
   "source": [
    "mse = [\n",
    "    'A. Abdollah Afshar', 'A. Abbas Akbarzadeh', 'R. Reza Bagheri',\n",
    "    'M. Majid Pouranvari', 'G. Gholamreza Pircheraghi', 'R. Rouhollah Tavakoli',\n",
    "    'M. Mohammad Halali', 'A. Adrine Malek Khachatourian', 'A. Abolghasem Dolati',\n",
    "    'S. Siamak Serajzadeh', 'A. Arash Simchi',\n",
    "    'S.K. Sayed Khatiboleslam Sadrnezhaad', 'P. Parvin Abachi', 'S. Sirous Asgari',\n",
    "    'M. Masoud Askari', 'M.A. Mohammad Ali Faghihi Sani', 'M. Mohammad Ghorbani',\n",
    "    'M. Mohsen Kazeminezhad', 'A.H. Amir Hossein Kokabi',\n",
    "    'H.R. Hamid Reza Madaah Hosseini', 'M.R. Mohammad Reza Mohammadi',\n",
    "    'M. Mojtaba Movahedi', 'A. Ali Nemati', 'H. Hossein Yoozbashizadeh', \n",
    "]\n",
    "query = 'Madaah'\n",
    "process.extract(query, mse)"
   ]
  }
 ],
 "metadata": {
  "kernelspec": {
   "display_name": "Python 3",
   "language": "python",
   "name": "python3"
  },
  "language_info": {
   "codemirror_mode": {
    "name": "ipython",
    "version": 3
   },
   "file_extension": ".py",
   "mimetype": "text/x-python",
   "name": "python",
   "nbconvert_exporter": "python",
   "pygments_lexer": "ipython3",
   "version": "3.6.7"
  }
 },
 "nbformat": 4,
 "nbformat_minor": 2
}
